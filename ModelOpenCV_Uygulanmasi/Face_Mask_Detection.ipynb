{
 "cells": [
  {
   "cell_type": "code",
   "execution_count": 1,
   "metadata": {},
   "outputs": [],
   "source": [
    "#Gerekli kütüphaneler\n",
    "\n",
    "from keras.models import load_model\n",
    "import cv2\n",
    "import numpy as np\n",
    "import tkinter\n",
    "from tkinter import messagebox\n",
    "import smtplib\n"
   ]
  },
  {
   "cell_type": "code",
   "execution_count": 2,
   "metadata": {},
   "outputs": [
    {
     "ename": "SMTPAuthenticationError",
     "evalue": "(535, b'5.7.8 Username and Password not accepted. Learn more at\\n5.7.8  https://support.google.com/mail/?p=BadCredentials v16sm2657453eds.64 - gsmtp')",
     "output_type": "error",
     "traceback": [
      "\u001b[1;31m---------------------------------------------------------------------------\u001b[0m",
      "\u001b[1;31mSMTPAuthenticationError\u001b[0m                   Traceback (most recent call last)",
      "\u001b[1;32m<ipython-input-2-6ce909be5b21>\u001b[0m in \u001b[0;36m<module>\u001b[1;34m\u001b[0m\n\u001b[0;32m     51\u001b[0m             \u001b[0mmail\u001b[0m\u001b[1;33m.\u001b[0m\u001b[0mehlo\u001b[0m\u001b[1;33m(\u001b[0m\u001b[1;33m)\u001b[0m\u001b[1;33m\u001b[0m\u001b[1;33m\u001b[0m\u001b[0m\n\u001b[0;32m     52\u001b[0m             \u001b[0mmail\u001b[0m\u001b[1;33m.\u001b[0m\u001b[0mstarttls\u001b[0m\u001b[1;33m(\u001b[0m\u001b[1;33m)\u001b[0m\u001b[1;33m\u001b[0m\u001b[1;33m\u001b[0m\u001b[0m\n\u001b[1;32m---> 53\u001b[1;33m             \u001b[0mmail\u001b[0m\u001b[1;33m.\u001b[0m\u001b[0mlogin\u001b[0m\u001b[1;33m(\u001b[0m\u001b[1;34m'zekiunyildiz@gmail.com'\u001b[0m\u001b[1;33m,\u001b[0m\u001b[1;34m'*************'\u001b[0m\u001b[1;33m)\u001b[0m\u001b[1;33m\u001b[0m\u001b[1;33m\u001b[0m\u001b[0m\n\u001b[0m\u001b[0;32m     54\u001b[0m             \u001b[0mmail\u001b[0m\u001b[1;33m.\u001b[0m\u001b[0msendmail\u001b[0m\u001b[1;33m(\u001b[0m\u001b[1;34m'zekiunyildiz@gmail.com'\u001b[0m\u001b[1;33m,\u001b[0m\u001b[1;34m'gulcankaraagac5@gmail.com'\u001b[0m\u001b[1;33m,\u001b[0m\u001b[0mmessage\u001b[0m\u001b[1;33m)\u001b[0m\u001b[1;33m\u001b[0m\u001b[1;33m\u001b[0m\u001b[0m\n\u001b[0;32m     55\u001b[0m             \u001b[0mmail\u001b[0m\u001b[1;33m.\u001b[0m\u001b[0mclose\u001b[0m\u001b[1;33m\u001b[0m\u001b[1;33m\u001b[0m\u001b[0m\n",
      "\u001b[1;32mC:\\ProgramData\\Anaconda3\\lib\\smtplib.py\u001b[0m in \u001b[0;36mlogin\u001b[1;34m(self, user, password, initial_response_ok)\u001b[0m\n\u001b[0;32m    732\u001b[0m \u001b[1;33m\u001b[0m\u001b[0m\n\u001b[0;32m    733\u001b[0m         \u001b[1;31m# We could not login successfully.  Return result of last attempt.\u001b[0m\u001b[1;33m\u001b[0m\u001b[1;33m\u001b[0m\u001b[1;33m\u001b[0m\u001b[0m\n\u001b[1;32m--> 734\u001b[1;33m         \u001b[1;32mraise\u001b[0m \u001b[0mlast_exception\u001b[0m\u001b[1;33m\u001b[0m\u001b[1;33m\u001b[0m\u001b[0m\n\u001b[0m\u001b[0;32m    735\u001b[0m \u001b[1;33m\u001b[0m\u001b[0m\n\u001b[0;32m    736\u001b[0m     \u001b[1;32mdef\u001b[0m \u001b[0mstarttls\u001b[0m\u001b[1;33m(\u001b[0m\u001b[0mself\u001b[0m\u001b[1;33m,\u001b[0m \u001b[0mkeyfile\u001b[0m\u001b[1;33m=\u001b[0m\u001b[1;32mNone\u001b[0m\u001b[1;33m,\u001b[0m \u001b[0mcertfile\u001b[0m\u001b[1;33m=\u001b[0m\u001b[1;32mNone\u001b[0m\u001b[1;33m,\u001b[0m \u001b[0mcontext\u001b[0m\u001b[1;33m=\u001b[0m\u001b[1;32mNone\u001b[0m\u001b[1;33m)\u001b[0m\u001b[1;33m:\u001b[0m\u001b[1;33m\u001b[0m\u001b[1;33m\u001b[0m\u001b[0m\n",
      "\u001b[1;32mC:\\ProgramData\\Anaconda3\\lib\\smtplib.py\u001b[0m in \u001b[0;36mlogin\u001b[1;34m(self, user, password, initial_response_ok)\u001b[0m\n\u001b[0;32m    721\u001b[0m             \u001b[0mmethod_name\u001b[0m \u001b[1;33m=\u001b[0m \u001b[1;34m'auth_'\u001b[0m \u001b[1;33m+\u001b[0m \u001b[0mauthmethod\u001b[0m\u001b[1;33m.\u001b[0m\u001b[0mlower\u001b[0m\u001b[1;33m(\u001b[0m\u001b[1;33m)\u001b[0m\u001b[1;33m.\u001b[0m\u001b[0mreplace\u001b[0m\u001b[1;33m(\u001b[0m\u001b[1;34m'-'\u001b[0m\u001b[1;33m,\u001b[0m \u001b[1;34m'_'\u001b[0m\u001b[1;33m)\u001b[0m\u001b[1;33m\u001b[0m\u001b[1;33m\u001b[0m\u001b[0m\n\u001b[0;32m    722\u001b[0m             \u001b[1;32mtry\u001b[0m\u001b[1;33m:\u001b[0m\u001b[1;33m\u001b[0m\u001b[1;33m\u001b[0m\u001b[0m\n\u001b[1;32m--> 723\u001b[1;33m                 (code, resp) = self.auth(\n\u001b[0m\u001b[0;32m    724\u001b[0m                     \u001b[0mauthmethod\u001b[0m\u001b[1;33m,\u001b[0m \u001b[0mgetattr\u001b[0m\u001b[1;33m(\u001b[0m\u001b[0mself\u001b[0m\u001b[1;33m,\u001b[0m \u001b[0mmethod_name\u001b[0m\u001b[1;33m)\u001b[0m\u001b[1;33m,\u001b[0m\u001b[1;33m\u001b[0m\u001b[1;33m\u001b[0m\u001b[0m\n\u001b[0;32m    725\u001b[0m                     initial_response_ok=initial_response_ok)\n",
      "\u001b[1;32mC:\\ProgramData\\Anaconda3\\lib\\smtplib.py\u001b[0m in \u001b[0;36mauth\u001b[1;34m(self, mechanism, authobject, initial_response_ok)\u001b[0m\n\u001b[0;32m    644\u001b[0m         \u001b[1;32mif\u001b[0m \u001b[0mcode\u001b[0m \u001b[1;32min\u001b[0m \u001b[1;33m(\u001b[0m\u001b[1;36m235\u001b[0m\u001b[1;33m,\u001b[0m \u001b[1;36m503\u001b[0m\u001b[1;33m)\u001b[0m\u001b[1;33m:\u001b[0m\u001b[1;33m\u001b[0m\u001b[1;33m\u001b[0m\u001b[0m\n\u001b[0;32m    645\u001b[0m             \u001b[1;32mreturn\u001b[0m \u001b[1;33m(\u001b[0m\u001b[0mcode\u001b[0m\u001b[1;33m,\u001b[0m \u001b[0mresp\u001b[0m\u001b[1;33m)\u001b[0m\u001b[1;33m\u001b[0m\u001b[1;33m\u001b[0m\u001b[0m\n\u001b[1;32m--> 646\u001b[1;33m         \u001b[1;32mraise\u001b[0m \u001b[0mSMTPAuthenticationError\u001b[0m\u001b[1;33m(\u001b[0m\u001b[0mcode\u001b[0m\u001b[1;33m,\u001b[0m \u001b[0mresp\u001b[0m\u001b[1;33m)\u001b[0m\u001b[1;33m\u001b[0m\u001b[1;33m\u001b[0m\u001b[0m\n\u001b[0m\u001b[0;32m    647\u001b[0m \u001b[1;33m\u001b[0m\u001b[0m\n\u001b[0;32m    648\u001b[0m     \u001b[1;32mdef\u001b[0m \u001b[0mauth_cram_md5\u001b[0m\u001b[1;33m(\u001b[0m\u001b[0mself\u001b[0m\u001b[1;33m,\u001b[0m \u001b[0mchallenge\u001b[0m\u001b[1;33m=\u001b[0m\u001b[1;32mNone\u001b[0m\u001b[1;33m)\u001b[0m\u001b[1;33m:\u001b[0m\u001b[1;33m\u001b[0m\u001b[1;33m\u001b[0m\u001b[0m\n",
      "\u001b[1;31mSMTPAuthenticationError\u001b[0m: (535, b'5.7.8 Username and Password not accepted. Learn more at\\n5.7.8  https://support.google.com/mail/?p=BadCredentials v16sm2657453eds.64 - gsmtp')"
     ]
    }
   ],
   "source": [
    "\n",
    "# Tkinter'ı Başlat\n",
    "root = tkinter.Tk()\n",
    "root.withdraw()\n",
    "\n",
    "#Colab'ta yaptığımız modeli yükleyelim\n",
    "model = load_model('Face_Mask_DetectionNew.h5')\n",
    "\n",
    "#Haarcascademizide ayarlayalım.\n",
    "face_det_classifier=cv2.CascadeClassifier('haarcascade_frontalface_default.xml')\n",
    "\n",
    "#Videomuzuda yakalayalım. \n",
    "vid_source=cv2.VideoCapture(0)\n",
    "\n",
    "\"\"\"\" Maske takma ayrıntılarını ve yüzün etrafındaki dikdörtgenin rengini içeren sözlükler. \n",
    "Maske takılıyorsa renk yeşil olur ve maske takılmazsa yüzün etrafındaki dikdörtgen rengi kırmızı olur.\"\"\"\n",
    "text_dict={0:'Mask ON',1:'No Mask'}\n",
    "rect_color_dict={0:(0,255,0),1:(0,0,255)}\n",
    "\n",
    "SUBJECT = \"Subject\"   \n",
    "TEXT = \"3.katta maske takmayan birisi var. Lütfen uyarın.\"\n",
    " \n",
    "\n",
    "# Kamera döngümüz\n",
    "while(True):\n",
    "\n",
    "    ret, img = vid_source.read()\n",
    "    grayscale_img = cv2.cvtColor(img,cv2.COLOR_BGR2GRAY)\n",
    "    faces = face_det_classifier.detectMultiScale(grayscale_img,1.3,5)  \n",
    "\n",
    "    for (x,y,w,h) in faces:\n",
    "    \n",
    "        face_img = grayscale_img[y:y+w,x:x+w]\n",
    "        resized_img = cv2.resize(face_img,(112,112))\n",
    "        normalized_img = resized_img/255.0\n",
    "        reshaped_img = np.reshape(normalized_img,(1,112,112,1))\n",
    "        result=model.predict(reshaped_img)\n",
    "\n",
    "        label=np.argmax(result,axis=1)[0]\n",
    "      \n",
    "        cv2.rectangle(img,(x,y),(x+w,y+h),rect_color_dict[label],2)\n",
    "        cv2.rectangle(img,(x,y-40),(x+w,y),rect_color_dict[label],-1)\n",
    "        cv2.putText(img, text_dict[label], (x, y-10),cv2.FONT_HERSHEY_SIMPLEX,0.8,(0,0,0),2) \n",
    "        \n",
    "        # Eğer label 1 ise lütfen maske tak anlamına geliyor ! 0 ise tam tersi!\n",
    "        if (label == 1):\n",
    "            messagebox.showwarning(\"Tehlike\",\"Neden Maske Takmıyorsunuz ??? Lütfen Takın !\")\n",
    "            \n",
    "            # Maske takmayınca mail gönderme \n",
    "            message = 'Subject: {}\\n\\n{}'.format(SUBJECT, TEXT)\n",
    "            mail = smtplib.SMTP('smtp.gmail.com', 587)\n",
    "            mail.ehlo()\n",
    "            mail.starttls()\n",
    "            mail.login('zekiunyildiz@gmail.com','*************')\n",
    "            mail.sendmail('zekiunyildiz@gmail.com','gulcankaraagac5@gmail.com',message)\n",
    "            mail.close\n",
    "        else:\n",
    "            pass\n",
    "            break\n",
    "\n",
    "    cv2.imshow('LIVE Video Feed',img)\n",
    "    key=cv2.waitKey(1)\n",
    "    \n",
    "    if(key==27):\n",
    "        break\n",
    "        \n",
    "cv2.destroyAllWindows()\n",
    "source.release()"
   ]
  },
  {
   "cell_type": "code",
   "execution_count": null,
   "metadata": {},
   "outputs": [],
   "source": []
  }
 ],
 "metadata": {
  "kernelspec": {
   "display_name": "Python 3",
   "language": "python",
   "name": "python3"
  },
  "language_info": {
   "codemirror_mode": {
    "name": "ipython",
    "version": 3
   },
   "file_extension": ".py",
   "mimetype": "text/x-python",
   "name": "python",
   "nbconvert_exporter": "python",
   "pygments_lexer": "ipython3",
   "version": "3.8.3"
  }
 },
 "nbformat": 4,
 "nbformat_minor": 4
}
